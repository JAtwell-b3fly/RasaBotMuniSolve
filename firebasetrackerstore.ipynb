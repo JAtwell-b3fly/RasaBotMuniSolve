{
 "cells": [
  {
   "cell_type": "code",
   "execution_count": 3,
   "id": "8f86377d",
   "metadata": {},
   "outputs": [
    {
     "ename": "ModuleNotFoundError",
     "evalue": "No module named 'rasa'",
     "output_type": "error",
     "traceback": [
      "\u001b[1;31m---------------------------------------------------------------------------\u001b[0m",
      "\u001b[1;31mModuleNotFoundError\u001b[0m                       Traceback (most recent call last)",
      "Cell \u001b[1;32mIn[3], line 1\u001b[0m\n\u001b[1;32m----> 1\u001b[0m \u001b[38;5;28;01mfrom\u001b[39;00m \u001b[38;5;21;01mrasa\u001b[39;00m\u001b[38;5;21;01m.\u001b[39;00m\u001b[38;5;21;01mcore\u001b[39;00m\u001b[38;5;21;01m.\u001b[39;00m\u001b[38;5;21;01mtracker_store\u001b[39;00m \u001b[38;5;28;01mimport\u001b[39;00m TrackerStore\n\u001b[0;32m      2\u001b[0m \u001b[38;5;28;01mimport\u001b[39;00m \u001b[38;5;21;01mfirebase_admin\u001b[39;00m\n\u001b[0;32m      3\u001b[0m \u001b[38;5;28;01mfrom\u001b[39;00m \u001b[38;5;21;01mfirebase_admin\u001b[39;00m \u001b[38;5;28;01mimport\u001b[39;00m credentials, firestore\n",
      "\u001b[1;31mModuleNotFoundError\u001b[0m: No module named 'rasa'"
     ]
    }
   ],
   "source": [
    "from rasa.core.tracker_store import TrackerStore\n",
    "import firebase_admin\n",
    "from firebase_admin import credentials, firestore\n",
    "\n",
    "class FirebaseTrackerStore(TrackerStore):\n",
    "    def __init__(self, domain, firebase_config):\n",
    "        super(FirebaseTrackerStore, self).__init__(domain)\n",
    "\n",
    "        # Initialize Firebase\n",
    "        cred = credentials.Certificate(firebase_config[\"credentials\"])\n",
    "        firebase_admin.initialize_app(cred)\n",
    "        self.db = firestore.client()\n",
    "\n",
    "    def save(self, tracker):\n",
    "        # Save the tracker state to Firebase\n",
    "        conversation_data = tracker.current_state()\n",
    "        user_id = tracker.sender_id\n",
    "\n",
    "        # Assuming you have a 'conversations' collection in Firestore\n",
    "        conversation_ref = self.db.collection(\"conversations\").document(user_id)\n",
    "        conversation_ref.set(conversation_data)\n",
    "\n",
    "    def retrieve(self, sender_id):\n",
    "        # Retrieve the tracker state from Firebase\n",
    "        conversation_ref = self.db.collection(\"conversations\").document(sender_id)\n",
    "        conversation_data = conversation_ref.get().to_dict()\n",
    "\n",
    "        if conversation_data:\n",
    "            return self.deserialise_tracker_state(sender_id, conversation_data)\n",
    "        else:\n",
    "            return None\n"
   ]
  }
 ],
 "metadata": {
  "kernelspec": {
   "display_name": "Python 3 (ipykernel)",
   "language": "python",
   "name": "python3"
  },
  "language_info": {
   "codemirror_mode": {
    "name": "ipython",
    "version": 3
   },
   "file_extension": ".py",
   "mimetype": "text/x-python",
   "name": "python",
   "nbconvert_exporter": "python",
   "pygments_lexer": "ipython3",
   "version": "3.10.9"
  }
 },
 "nbformat": 4,
 "nbformat_minor": 5
}
